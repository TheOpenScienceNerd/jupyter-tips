{
 "cells": [
  {
   "cell_type": "markdown",
   "id": "66d564ff-f122-4afe-909c-ca47079ea1c9",
   "metadata": {},
   "source": [
    "# Autoformat notebook example\n",
    "\n",
    "This notebook contains some code that violates PEP8 style guidelines.  It is designed to be used with the `black` autoformatting tool to demonstrate how code is modified for you.\n",
    "\n",
    "**RECOMMENDED**: make a **copy** of this notebook before you auto-format it!  That way you can try different settings to see the results."
   ]
  },
  {
   "cell_type": "markdown",
   "id": "3d9b475c-0502-4b91-8137-3b91aa9cb095",
   "metadata": {},
   "source": [
    "## Imports"
   ]
  },
  {
   "cell_type": "code",
   "execution_count": 1,
   "id": "6ce99cba-40c6-4436-b82b-6baa7d4677e2",
   "metadata": {},
   "outputs": [],
   "source": [
    "import pandas as pd\n",
    "import numpy as np\n",
    "from sklearn.preprocessing import StandardScaler, OneHotEncoder\n",
    "from sklearn.model_selection import train_test_split\n",
    "from sklearn.linear_model import LogisticRegression"
   ]
  },
  {
   "cell_type": "markdown",
   "id": "31591bd8-909b-48a6-b391-f3ce90c0d845",
   "metadata": {},
   "source": [
    "## 1. Violations of PEP8 in the code example.\n",
    "\n",
    "* Line length: Many lines exceed 79 or 100 characters.\n",
    "* Inconsistent indentation and whitespace: There are irregular spaces between function parameters and after commas.\n",
    "* No blank lines between logical sections of the code.\n",
    "* Improper string formatting: The long print statement at the end should be broken into multiple lines."
   ]
  },
  {
   "cell_type": "code",
   "execution_count": 2,
   "id": "bc4a6b03-0a34-4108-85f2-b541b2f9f6b4",
   "metadata": {},
   "outputs": [],
   "source": [
    "def messy_data_analysis(data_frame,columns_to_process,    numeric_columns,categorical_columns,      target_variable):   \n",
    "    # Preprocessing\n",
    "    data_frame = data_frame[columns_to_process]\n",
    "    data_frame[numeric_columns] = data_frame[numeric_columns].fillna(data_frame[numeric_columns].mean())\n",
    "    data_frame[categorical_columns] = data_frame[categorical_columns].fillna(data_frame[categorical_columns].mode().iloc[0])\n",
    "    \n",
    "    # Feature engineering\n",
    "    scaler = StandardScaler()\n",
    "    data_frame[numeric_columns] = scaler.fit_transform(data_frame[numeric_columns])\n",
    "    \n",
    "    encoder = OneHotEncoder(sparse=False, handle_unknown='ignore')\n",
    "    encoded_categorical = encoder.fit_transform(data_frame[categorical_columns])\n",
    "    encoded_feature_names = encoder.get_feature_names(categorical_columns)\n",
    "    \n",
    "    encoded_df = pd.DataFrame(encoded_categorical, columns=encoded_feature_names, index=data_frame.index)\n",
    "    \n",
    "    processed_data = pd.concat([data_frame[numeric_columns], encoded_df, data_frame[target_variable]], axis=1)\n",
    "    \n",
    "    # Split the data\n",
    "    X = processed_data.drop(columns=[target_variable])\n",
    "    y = processed_data[target_variable]\n",
    "    X_train, X_test, y_train, y_test = train_test_split(X, y, test_size=0.2, random_state=42)\n",
    "    \n",
    "    # Train a simple model\n",
    "    model = LogisticRegression(random_state=42, max_iter=1000)\n",
    "    model.fit(X_train, y_train)\n",
    "    \n",
    "    # Evaluate the model\n",
    "    train_accuracy = model.score(X_train, y_train)\n",
    "    test_accuracy = model.score(X_test, y_test)\n",
    "    \n",
    "    print(f\"This function performs data preprocessing, feature engineering, and trains a logistic regression model on the given dataset. The model achieves a training accuracy of {train_accuracy:.2f} and a test accuracy of {test_accuracy:.2f}. Please note that this is a basic analysis and may not be suitable for all datasets or problems. Further optimization and model selection might be necessary for better results.\")\n",
    "    \n",
    "    return model, train_accuracy, test_accuracy\n"
   ]
  }
 ],
 "metadata": {
  "kernelspec": {
   "display_name": "Python 3 (ipykernel)",
   "language": "python",
   "name": "python3"
  },
  "language_info": {
   "codemirror_mode": {
    "name": "ipython",
    "version": 3
   },
   "file_extension": ".py",
   "mimetype": "text/x-python",
   "name": "python",
   "nbconvert_exporter": "python",
   "pygments_lexer": "ipython3",
   "version": "3.11.11"
  }
 },
 "nbformat": 4,
 "nbformat_minor": 5
}
