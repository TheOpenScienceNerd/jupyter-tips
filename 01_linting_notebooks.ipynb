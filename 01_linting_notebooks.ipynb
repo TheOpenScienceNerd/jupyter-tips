{
 "cells": [
  {
   "cell_type": "markdown",
   "id": "f431dfed-eec8-4e32-9a8d-f17e192d08fb",
   "metadata": {},
   "source": [
    "# 1. Linting and autoformatting notebooks\n",
    "\n",
    "### 1.1 Linting notebooks\n",
    "\n",
    "If you are new to coding (or even experienced!) you might be delighted to know that software exists to help you write cleaner code and keep to PEP8 standards. These are called code **linters**.\n",
    "\n",
    "There are a number of linters you can choose from. Here I make use of **flake8**. I’ve always found this helpful.\n",
    "\n",
    "To use flake8 with a Jupyter notebook requires another package `nbqa` ([Quality Assurance for Jupyter Notebooks](https://nbqa.readthedocs.io/en/latest/)). This can be installed from pip.\n",
    "\n",
    "For example to run the linter with this particular notebook I would run the following in the terminal:\n",
    "\n",
    "```bash\n",
    "nbqa flake8 02_cleaner_notebooks.ipynb\n",
    "```\n",
    "\n",
    "I get the following output:\n",
    "\n",
    "```\n",
    "cleaner_notebooks.ipynb:cell_1:1:1: F401 'numpy as np' imported but unused\n",
    "cleaner_notebooks.ipynb:cell_3:12:80: E501 line too long (101 > 79 characters)\n",
    "cleaner_notebooks.ipynb:cell_3:13:1: E124 closing bracket does not match visual indentation\n",
    "cleaner_notebooks.ipynb:cell_4:2:44: W291 trailing whitespace\n",
    "cleaner_notebooks.ipynb:cell_4:3:60: W291 trailing whitespace\n",
    "cleaner_notebooks.ipynb:cell_4:4:46: W291 trailing whitespace\n",
    "cleaner_notebooks.ipynb:cell_4:6:1: E124 closing bracket does not match visual indentation\n",
    "cleaner_notebooks.ipynb:cell_5:2:80: E501 line too long (94 > 79 characters)\n",
    "cleaner_notebooks.ipynb:cell_6:1:1: F811 redefinition of unused 'Normal' from line 41\n",
    "```"
   ]
  },
  {
   "cell_type": "code",
   "execution_count": null,
   "id": "ec8ba9bd-8a34-43aa-8b24-b5f2735309a8",
   "metadata": {},
   "outputs": [],
   "source": []
  }
 ],
 "metadata": {
  "kernelspec": {
   "display_name": "Python 3 (ipykernel)",
   "language": "python",
   "name": "python3"
  },
  "language_info": {
   "codemirror_mode": {
    "name": "ipython",
    "version": 3
   },
   "file_extension": ".py",
   "mimetype": "text/x-python",
   "name": "python",
   "nbconvert_exporter": "python",
   "pygments_lexer": "ipython3",
   "version": "3.11.11"
  }
 },
 "nbformat": 4,
 "nbformat_minor": 5
}
